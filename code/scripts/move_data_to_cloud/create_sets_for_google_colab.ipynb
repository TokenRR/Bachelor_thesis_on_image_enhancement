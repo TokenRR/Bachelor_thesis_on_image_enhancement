{
 "cells": [
  {
   "cell_type": "code",
   "execution_count": 1,
   "metadata": {},
   "outputs": [],
   "source": [
    "import os\n",
    "import shutil\n",
    "import random"
   ]
  },
  {
   "cell_type": "code",
   "execution_count": 2,
   "metadata": {},
   "outputs": [],
   "source": [
    "# Шляхи до існуючих папок\n",
    "TEST_FOLDER_PATH = 'D:\\\\KPI\\\\Bachelor_thesis\\\\code\\\\data\\\\images\\\\test'\n",
    "TRAIN_FOLDER_PATH = 'D:\\\\KPI\\\\Bachelor_thesis\\\\code\\\\data\\\\images\\\\train'\n",
    "VAL_FOLDER_PATH = 'D:\\\\KPI\\\\Bachelor_thesis\\\\code\\\\data\\\\images\\\\val'\n",
    "\n",
    "# Шляхи до нових папок\n",
    "NEW_TEST_FOLDER_PATH = 'D:\\\\KPI\\\\Bachelor_thesis\\\\code\\\\data\\\\images\\\\new_test'\n",
    "NEW_TRAIN_FOLDER_PATH = 'D:\\\\KPI\\\\Bachelor_thesis\\\\code\\\\data\\\\images\\\\new_train'\n",
    "NEW_VAL_FOLDER_PATH = 'D:\\\\KPI\\\\Bachelor_thesis\\\\code\\\\data\\\\images\\\\new_val'"
   ]
  },
  {
   "cell_type": "code",
   "execution_count": 3,
   "metadata": {},
   "outputs": [],
   "source": [
    "# Функція для створення нової папки, якщо вона не існує\n",
    "def create_folder(path):\n",
    "    if not os.path.exists(path):\n",
    "        os.makedirs(path)\n",
    "\n",
    "# Функція для копіювання випадкових файлів з існуючої папки до нової папки\n",
    "def copy_random_files(src_folder, dest_folder, num_files):\n",
    "    all_files = os.listdir(src_folder)\n",
    "    selected_files = random.sample(all_files, num_files)\n",
    "    for file in selected_files:\n",
    "        src_path = os.path.join(src_folder, file)\n",
    "        dest_path = os.path.join(dest_folder, file)\n",
    "        shutil.copy(src_path, dest_path)"
   ]
  },
  {
   "cell_type": "code",
   "execution_count": 4,
   "metadata": {},
   "outputs": [],
   "source": [
    "# Створення нових папок\n",
    "create_folder(NEW_TEST_FOLDER_PATH)\n",
    "create_folder(NEW_TRAIN_FOLDER_PATH)\n",
    "create_folder(NEW_VAL_FOLDER_PATH)"
   ]
  },
  {
   "cell_type": "code",
   "execution_count": 5,
   "metadata": {},
   "outputs": [],
   "source": [
    "# Копіювання файлів\n",
    "copy_random_files(TEST_FOLDER_PATH, NEW_TEST_FOLDER_PATH, 1_000)\n",
    "copy_random_files(TRAIN_FOLDER_PATH, NEW_TRAIN_FOLDER_PATH, 50_000)\n",
    "copy_random_files(VAL_FOLDER_PATH, NEW_VAL_FOLDER_PATH, 5_000)"
   ]
  }
 ],
 "metadata": {
  "kernelspec": {
   "display_name": ".venv",
   "language": "python",
   "name": "python3"
  },
  "language_info": {
   "codemirror_mode": {
    "name": "ipython",
    "version": 3
   },
   "file_extension": ".py",
   "mimetype": "text/x-python",
   "name": "python",
   "nbconvert_exporter": "python",
   "pygments_lexer": "ipython3",
   "version": "3.11.3"
  }
 },
 "nbformat": 4,
 "nbformat_minor": 2
}
