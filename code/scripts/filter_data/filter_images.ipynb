{
 "cells": [
  {
   "cell_type": "code",
   "execution_count": 1,
   "metadata": {},
   "outputs": [],
   "source": [
    "import os\n",
    "import shutil\n",
    "from typing import Optional\n",
    "\n",
    "from PIL import Image\n",
    "from keras.preprocessing.image import img_to_array"
   ]
  },
  {
   "cell_type": "code",
   "execution_count": 2,
   "metadata": {},
   "outputs": [],
   "source": [
    "TEST_FOLDER_PATH = 'D:\\\\KPI\\\\Bachelor_thesis\\\\code\\\\data\\\\images\\\\test'\n",
    "TRAIN_FOLDER_PATH = 'D:\\\\KPI\\\\Bachelor_thesis\\\\code\\\\data\\\\images\\\\train'\n",
    "VAL_FOLDER_PATH = 'D:\\\\KPI\\\\Bachelor_thesis\\\\code\\\\data\\\\images\\\\val'\n",
    "\n",
    "RAW_TEST_FOLDER_PATH = 'D:\\\\KPI\\\\Bachelor_thesis\\\\code\\\\data\\\\raw_images\\\\test'\n",
    "RAW_TRAIN_FOLDER_PATH = 'D:\\\\KPI\\\\Bachelor_thesis\\\\code\\\\data\\\\raw_images\\\\train'\n",
    "RAW_VAL_FOLDER_PATH = 'D:\\\\KPI\\\\Bachelor_thesis\\\\code\\\\data\\\\raw_images\\\\val'"
   ]
  },
  {
   "cell_type": "code",
   "execution_count": 4,
   "metadata": {},
   "outputs": [],
   "source": [
    "def filter_and_copy_images(source_path: str, target_path: Optional[str] = None) -> int:\n",
    "    \"\"\"\n",
    "    Filter images in the source directory based on specified criteria and copy them to the target directory.\n",
    "\n",
    "    Args:\n",
    "        source_path (str): The path to the source directory containing images.\n",
    "        target_path (Optional[str]): The path to the target directory where filtered images will be copied.\n",
    "                                     If None, filtered images will not be copied and only the count will be returned.\n",
    "\n",
    "    Returns:\n",
    "        int: The total number of filtered images.\n",
    "    \"\"\"\n",
    "\n",
    "    counter = 0\n",
    "\n",
    "    if target_path is not None and not os.path.exists(target_path):\n",
    "        os.makedirs(target_path)\n",
    "\n",
    "    for filename in os.listdir(source_path):\n",
    "        file_path = os.path.join(source_path, filename)\n",
    "\n",
    "        with Image.open(file_path) as image:\n",
    "            array = img_to_array(image)\n",
    "            channels = array.shape[-1]\n",
    "            width, height = image.size\n",
    "\n",
    "        if channels == 3 and 500 <= width <= 800 and 300 <= height <= 800:\n",
    "            if target_path:\n",
    "                target_file_path = os.path.join(target_path, filename)\n",
    "                if not os.path.exists(target_file_path):\n",
    "                    shutil.copy(file_path, target_file_path)\n",
    "            counter += 1\n",
    "\n",
    "    return counter\n"
   ]
  },
  {
   "cell_type": "code",
   "execution_count": 11,
   "metadata": {},
   "outputs": [
    {
     "name": "stdout",
     "output_type": "stream",
     "text": [
      "Total filtered images of test folder  = 66232\n"
     ]
    }
   ],
   "source": [
    "print(f\"Total filtered images of test folder  = {filter_and_copy_images(RAW_TEST_FOLDER_PATH, TEST_FOLDER_PATH)}\")\n",
    "print(f\"Total filtered images of val folder   = {filter_and_copy_images(RAW_VAL_FOLDER_PATH, VAL_FOLDER_PATH)}\")"
   ]
  },
  {
   "cell_type": "code",
   "execution_count": 6,
   "metadata": {},
   "outputs": [],
   "source": [
    "def filter_and_copy_images(source_path: str, target_path: Optional[str] = None) -> int:\n",
    "    \"\"\"\n",
    "    Filter images in the source directory and its subdirectories based on specified criteria \n",
    "    and copy them to the target directory.\n",
    "\n",
    "    Args:\n",
    "        source_path (str):           The path to the source directory containing images.\n",
    "        target_path (Optional[str]): The path to the target directory where filtered images will be copied.\n",
    "                                     If None, filtered images will not be copied and only the count will be returned.\n",
    "\n",
    "    Returns:\n",
    "        int: The total number of filtered images.\n",
    "    \"\"\"\n",
    "    counter = 0\n",
    "\n",
    "    if target_path is not None and not os.path.exists(target_path):\n",
    "        os.makedirs(target_path)\n",
    "\n",
    "    for root, _dirs, files in os.walk(source_path):\n",
    "        for filename in files:\n",
    "            file_path = os.path.join(root, filename)\n",
    "\n",
    "            with Image.open(file_path) as image:\n",
    "                array = img_to_array(image)\n",
    "                channels = array.shape[-1]\n",
    "                width, height = image.size\n",
    "\n",
    "            if channels == 3 and 500 <= width <= 800 and 300 <= height <= 800:\n",
    "                if target_path:\n",
    "                    target_file_path = os.path.join(target_path, filename)\n",
    "                    if not os.path.exists(target_file_path):\n",
    "                        shutil.copy(file_path, target_file_path)\n",
    "                counter += 1\n",
    "\n",
    "    return counter\n"
   ]
  },
  {
   "cell_type": "code",
   "execution_count": 7,
   "metadata": {},
   "outputs": [
    {
     "name": "stdout",
     "output_type": "stream",
     "text": [
      "Total filtered images of train folder = 445929\n"
     ]
    }
   ],
   "source": [
    "print(f\"Total filtered images of train folder = {filter_and_copy_images(RAW_TRAIN_FOLDER_PATH, TRAIN_FOLDER_PATH)}\")\n"
   ]
  }
 ],
 "metadata": {
  "kernelspec": {
   "display_name": ".venv",
   "language": "python",
   "name": "python3"
  },
  "language_info": {
   "codemirror_mode": {
    "name": "ipython",
    "version": 3
   },
   "file_extension": ".py",
   "mimetype": "text/x-python",
   "name": "python",
   "nbconvert_exporter": "python",
   "pygments_lexer": "ipython3",
   "version": "3.11.3"
  }
 },
 "nbformat": 4,
 "nbformat_minor": 2
}
