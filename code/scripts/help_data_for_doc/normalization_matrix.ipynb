{
 "cells": [
  {
   "cell_type": "code",
   "execution_count": 3,
   "metadata": {},
   "outputs": [
    {
     "name": "stdout",
     "output_type": "stream",
     "text": [
      "\n",
      "\n",
      "Вхідна матриця:\n",
      "[[ 34  87 123]\n",
      " [ 45 190 230]\n",
      " [210  12  65]]\n",
      "\n",
      "Нормалізована матриця:\n",
      "[[0.13 0.34 0.48]\n",
      " [0.18 0.75 0.9 ]\n",
      " [0.82 0.05 0.25]]\n"
     ]
    }
   ],
   "source": [
    "import numpy as np\n",
    "\n",
    "# Налаштовуємо кількість символів після коми для естетичного виводу\n",
    "np.set_printoptions(precision=2, suppress=True)\n",
    "\n",
    "# Функція для нормалізації зображення до діапазону [0, 1]\n",
    "def normalize_image(image):\n",
    "    return image / 255.0\n",
    "\n",
    "# Створюємо маленьку матрицю (3x3) зі значеннями пікселів від 0 до 255\n",
    "input_matrix = np.array([\n",
    "    [34, 87, 123],\n",
    "    [45, 190, 230],\n",
    "    [210, 12, 65]\n",
    "], dtype=np.uint8)\n",
    "\n",
    "# Нормалізуємо матрицю\n",
    "normalized_matrix = normalize_image(input_matrix)\n",
    "\n",
    "# Виводимо вхідні та нормалізовані дані\n",
    "print(\"\\n\\nВхідна матриця:\")\n",
    "print(input_matrix)\n",
    "\n",
    "print(\"\\nНормалізована матриця:\")\n",
    "print(normalized_matrix)\n"
   ]
  }
 ],
 "metadata": {
  "kernelspec": {
   "display_name": ".venv",
   "language": "python",
   "name": "python3"
  },
  "language_info": {
   "codemirror_mode": {
    "name": "ipython",
    "version": 3
   },
   "file_extension": ".py",
   "mimetype": "text/x-python",
   "name": "python",
   "nbconvert_exporter": "python",
   "pygments_lexer": "ipython3",
   "version": "3.11.3"
  }
 },
 "nbformat": 4,
 "nbformat_minor": 2
}
